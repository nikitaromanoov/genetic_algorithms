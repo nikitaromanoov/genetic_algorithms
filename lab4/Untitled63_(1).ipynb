{
  "nbformat": 4,
  "nbformat_minor": 0,
  "metadata": {
    "colab": {
      "provenance": []
    },
    "kernelspec": {
      "name": "python3",
      "display_name": "Python 3"
    },
    "language_info": {
      "name": "python"
    }
  },
  "cells": [
    {
      "cell_type": "code",
      "execution_count": null,
      "metadata": {
        "id": "rMF_OELqDJRK"
      },
      "outputs": [],
      "source": [
        "import random\n",
        "import math\n",
        "import pandas as pd\n",
        "import numpy.random as npr"
      ]
    },
    {
      "cell_type": "code",
      "source": [
        "lv = []\n",
        "with open(\"/content/xql662.tsp\") as f:\n",
        "  for i in f:\n",
        "    lv += [[int(j) for j in i[:-1].split()]]\n",
        "\n",
        "dict_cities = {}\n",
        "for i in lv:\n",
        "  dict_cities[i[0]] = [i[1],i[2]]"
      ],
      "metadata": {
        "id": "M_fo_pY0DKSE"
      },
      "execution_count": null,
      "outputs": []
    },
    {
      "cell_type": "code",
      "source": [
        "def factory(count_cities):\n",
        "  paths = [i+1 for i in range(count_cities)]\n",
        "  #shuffle_paths = paths[1:]\n",
        "  #random.shuffle(shuffle_paths)\n",
        "  #paths[1:] = shuffle_paths\n",
        "  return paths "
      ],
      "metadata": {
        "id": "dMtPIRcQOyHw"
      },
      "execution_count": null,
      "outputs": []
    },
    {
      "cell_type": "code",
      "source": [
        "def crossover(p1, p2):\n",
        "    p1 = p1[1:]\n",
        "    p2= p2[1:]\n",
        "    #order crossover\n",
        "    children = [-1 for i in range(len(p1))]\n",
        "    random_1 = random.randrange(len(p1)) \n",
        "    random_2 =  random.randrange(len(p1))\n",
        "    if random_2 < random_1 :\n",
        "      random_1 , random_2 = random_2, random_1\n",
        "    children[random_1 : random_2] = p1[random_1 : random_2]\n",
        "    #p2 = p2[random_2:] + p2[:random_2]\n",
        "    for i in p1[random_1 : random_2]:\n",
        "      p2.remove(i)\n",
        "    for i in range(len(children[random_2:])):\n",
        "      children[random_2+i] = p2[0]\n",
        "      del p2[0]\n",
        "    for i in range(len(children[:random_1])):\n",
        "      children[i] = p2[0]\n",
        "      del p2[0]\n",
        "    return [1] + children"
      ],
      "metadata": {
        "id": "oEd7RqEhCKGK"
      },
      "execution_count": null,
      "outputs": []
    },
    {
      "cell_type": "code",
      "source": [
        "def fintess_function(path, dict_cities):\n",
        "  path = path + [1]\n",
        "  dist = 0\n",
        "  for n, i in enumerate(path[1:]):\n",
        "   #print(dict_cities[path[n]])\n",
        "    #print(dict_cities[path[n]][0], dict_cities[path[n]][1])\n",
        "    dist += math.sqrt( (dict_cities[i][0] - dict_cities[path[n]][0])**2 + (dict_cities[i][1]- dict_cities[path[n]][1])**2 )\n",
        "    #print(\"___\")\n",
        "  return dist"
      ],
      "metadata": {
        "id": "B-kL8QDuVMV0"
      },
      "execution_count": null,
      "outputs": []
    },
    {
      "cell_type": "code",
      "source": [
        "def selection(population, populations_size):\n",
        "  df = pd.DataFrame({\"individ\":population, \"score\": [fintess_function(i, dict_cities) for i in population]})\n",
        "  df = df.sort_values(\"score\")\n",
        "  #print(df[:populations_size])\n",
        "  return list(df[\"individ\"][:populations_size]), min(list(df[\"score\"][:populations_size]))"
      ],
      "metadata": {
        "id": "SctBG81qXs8M"
      },
      "execution_count": null,
      "outputs": []
    },
    {
      "cell_type": "code",
      "source": [
        "def mutation(individs, SWAP_MUTATION, INSERT_MUTATION, SCRAMBLE_MUTATION, INVERSION_MUTATION):\n",
        "\n",
        "  # swap mutation\n",
        "  for j in range(SWAP_MUTATION):\n",
        "      i = individs[j]\n",
        "      rand = random.randrange(1, len(individs))\n",
        "      random_1 = random.randrange(1, len(i))\n",
        "      random_2 =  random.randrange(1, len(i))\n",
        "      i[random_1], i[random_2] = i[random_2],i[ random_1]\n",
        "  # insert mutation\n",
        "  for j in range(INSERT_MUTATION):\n",
        "      i = individs[j]\n",
        "      random_1 = random.randrange(1, len(i)-1)\n",
        "      random_2 =  random.randrange(1, len(i))\n",
        "      i[random_1+1], i[random_2] = i[random_2],i[ random_1+1]\n",
        "  # scramble mutation\n",
        "  for j in range(SCRAMBLE_MUTATION):\n",
        "      i = individs[j]\n",
        "      random_1 = random.randrange(1, len(i)-1)\n",
        "      random_2 =  random.randrange(1, len(i))\n",
        "      shuffle_list = i[random_1:random_2]\n",
        "      random.shuffle(shuffle_list)\n",
        "      i[random_1:random_2] = shuffle_list\n",
        "  # inversion mutation\n",
        "  for j in range(INVERSION_MUTATION):\n",
        "      i = individs[j]\n",
        "      if random_2 < random_1 :\n",
        "        random_1 , random_2 = random_2, random_1\n",
        "      random_1 = random.randrange(1, len(i))\n",
        "      random_2 =  random.randrange(1, len(i))\n",
        "      invers_list = i[random_1:random_2][::1]\n",
        "      i[random_1:random_2] = invers_list\n",
        "\n",
        "  return individs"
      ],
      "metadata": {
        "id": "ttYxxdXzoIpC"
      },
      "execution_count": null,
      "outputs": []
    },
    {
      "cell_type": "code",
      "source": [
        "def selectOne(population):\n",
        "    max = sum(1/population.score)\n",
        "    selection_probs = [(1/c)/max for c in df.score]\n",
        "    return df[\"individ\"][npr.choice(len(population), p=selection_probs)]"
      ],
      "metadata": {
        "id": "f2-4XYt3I9YD"
      },
      "execution_count": null,
      "outputs": []
    },
    {
      "cell_type": "code",
      "source": [
        "GENERATIONS = 100000\n",
        "POPULATIONS_SIZE = 1500\n",
        "COUNT_CITIES = 662\n",
        "PRECENT_CROSSOVER = 0.9\n",
        "best_ever = 10000000\n",
        "ELETISM = 200\n",
        "SWAP_MUTATION = 150\n",
        "INSERT_MUTATION = 150\n",
        "SCRAMBLE_MUTATION = 30\n",
        "INVERSION_MUTATION = 30\n",
        "\n",
        "population = []\n",
        "for i in range(GENERATIONS):\n",
        "  #factor\n",
        "  if population == []:\n",
        "    for j in range(POPULATIONS_SIZE):\n",
        "      population += [factory(COUNT_CITIES)]\n",
        "\n",
        "  # elitism\n",
        "  new_population = []\n",
        "  df = pd.DataFrame({\"individ\":population, \"score\": [fintess_function(i, dict_cities) for i in population]})\n",
        "  df = df.sort_values(\"score\")\n",
        "  base = list(df[\"individ\"][:ELETISM])\n",
        "\n",
        "  # crossover\n",
        "  for j in range(round(PRECENT_CROSSOVER*round(POPULATIONS_SIZE/2))):\n",
        "    new_population += [crossover(selectOne(df),selectOne(df))]\n",
        "  population += new_population\n",
        "\n",
        "  #mutation\n",
        "  random.shuffle(population)\n",
        "  population = mutation(population, SWAP_MUTATION, INSERT_MUTATION, SCRAMBLE_MUTATION, INVERSION_MUTATION)\n",
        "  \n",
        "  #selection\n",
        "  population, best_score = selection(population, POPULATIONS_SIZE- ELETISM)\n",
        "  population = base + population\n",
        "\n",
        "  if best_score < best_ever:\n",
        "    best_ever = best_score\n",
        "\n",
        "  print(f\"Generation #{i}, best_score_ever = {best_ever}, best_current_score = {best_score}\")\n",
        "\n",
        "\n",
        "  \n",
        "\n",
        "\n",
        "  "
      ],
      "metadata": {
        "id": "2ozaDBJxh5Ki"
      },
      "execution_count": null,
      "outputs": []
    }
  ]
}